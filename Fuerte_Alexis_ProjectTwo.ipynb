{
 "cells": [
  {
   "cell_type": "markdown",
   "metadata": {},
   "source": [
    "# Treasure Hunt Game Notebook\n",
    "\n",
    "## Read and Review Your Starter Code\n",
    "The theme of this project is a popular treasure hunt game in which the player needs to find the treasure before the pirate does. While you will not be developing the entire game, you will write the part of the game that represents the intelligent agent, which is a pirate in this case. The pirate will try to find the optimal path to the treasure using deep Q-learning. \n",
    "\n",
    "You have been provided with two Python classes and this notebook to help you with this assignment. The first class, TreasureMaze.py, represents the environment, which includes a maze object defined as a matrix. The second class, GameExperience.py, stores the episodes – that is, all the states that come in between the initial state and the terminal state. This is later used by the agent for learning by experience, called \"exploration\". This notebook shows how to play a game. Your task is to complete the deep Q-learning implementation for which a skeleton implementation has been provided. The code blocs you will need to complete has #TODO as a header.\n",
    "\n",
    "First, read and review the next few code and instruction blocks to understand the code that you have been given."
   ]
  },
  {
   "cell_type": "code",
   "execution_count": 323,
   "metadata": {},
   "outputs": [],
   "source": [
    "from __future__ import print_function\n",
    "import os, sys, time, datetime, json, random\n",
    "import numpy as np\n",
    "from keras.models import Sequential\n",
    "from keras.layers.core import Dense, Activation\n",
    "from keras.optimizers import SGD , Adam, RMSprop\n",
    "from keras.layers.advanced_activations import PReLU\n",
    "import matplotlib.pyplot as plt\n",
    "from TreasureMaze import TreasureMaze\n",
    "from GameExperience import GameExperience\n",
    "%matplotlib inline"
   ]
  },
  {
   "cell_type": "markdown",
   "metadata": {},
   "source": [
    "The following code block contains an 8x8 matrix that will be used as a maze object:"
   ]
  },
  {
   "cell_type": "code",
   "execution_count": 324,
   "metadata": {},
   "outputs": [],
   "source": [
    "maze = np.array([\n",
    "    [ 1.,  0.,  1.,  1.,  1.,  1.,  1.,  1.],\n",
    "    [ 1.,  0.,  1.,  1.,  1.,  0.,  1.,  1.],\n",
    "    [ 1.,  1.,  1.,  1.,  0.,  1.,  0.,  1.],\n",
    "    [ 1.,  1.,  1.,  0.,  1.,  1.,  1.,  1.],\n",
    "    [ 1.,  1.,  0.,  1.,  1.,  1.,  1.,  1.],\n",
    "    [ 1.,  1.,  1.,  0.,  1.,  0.,  0.,  0.],\n",
    "    [ 1.,  1.,  1.,  0.,  1.,  1.,  1.,  1.],\n",
    "    [ 1.,  1.,  1.,  1.,  0.,  1.,  1.,  1.]\n",
    "])"
   ]
  },
  {
   "cell_type": "markdown",
   "metadata": {},
   "source": [
    "This helper function allows a visual representation of the maze object:"
   ]
  },
  {
   "cell_type": "code",
   "execution_count": 325,
   "metadata": {},
   "outputs": [],
   "source": [
    "def show(qmaze):\n",
    "    plt.grid('on')\n",
    "    nrows, ncols = qmaze.maze.shape\n",
    "    ax = plt.gca()\n",
    "    ax.set_xticks(np.arange(0.5, nrows, 1))\n",
    "    ax.set_yticks(np.arange(0.5, ncols, 1))\n",
    "    ax.set_xticklabels([])\n",
    "    ax.set_yticklabels([])\n",
    "    canvas = np.copy(qmaze.maze)\n",
    "    for row,col in qmaze.visited:\n",
    "        canvas[row,col] = 0.6\n",
    "    pirate_row, pirate_col, _ = qmaze.state\n",
    "    canvas[pirate_row, pirate_col] = 0.3   # pirate cell\n",
    "    canvas[nrows-1, ncols-1] = 0.9 # treasure cell\n",
    "    img = plt.imshow(canvas, interpolation='none', cmap='gray')\n",
    "    return img"
   ]
  },
  {
   "cell_type": "markdown",
   "metadata": {},
   "source": [
    "The pirate agent can move in four directions: left, right, up, and down. \n",
    "\n",
    "While the agent primarily learns by experience through exploitation, often, the agent can choose to explore the environment to find previously undiscovered paths. This is called \"exploration\" and is defined by epsilon. This value is typically a lower value such as 0.1, which means for every ten attempts, the agent will attempt to learn by experience nine times and will randomly explore a new path one time. You are encouraged to try various values for the exploration factor and see how the algorithm performs."
   ]
  },
  {
   "cell_type": "code",
   "execution_count": 326,
   "metadata": {},
   "outputs": [],
   "source": [
    "LEFT = 0\n",
    "UP = 1\n",
    "RIGHT = 2\n",
    "DOWN = 3\n",
    "\n",
    "\n",
    "# Exploration factor\n",
    "epsilon = 0.1\n",
    "\n",
    "# Actions dictionary\n",
    "actions_dict = {\n",
    "    LEFT: 'left',\n",
    "    UP: 'up',\n",
    "    RIGHT: 'right',\n",
    "    DOWN: 'down',\n",
    "}\n",
    "\n",
    "num_actions = len(actions_dict)\n"
   ]
  },
  {
   "cell_type": "markdown",
   "metadata": {},
   "source": [
    "The sample code block and output below show creating a maze object and performing one action (DOWN), which returns the reward. The resulting updated environment is visualized."
   ]
  },
  {
   "cell_type": "code",
   "execution_count": 327,
   "metadata": {},
   "outputs": [
    {
     "name": "stdout",
     "output_type": "stream",
     "text": [
      "reward= -0.04\n"
     ]
    },
    {
     "data": {
      "text/plain": [
       "<matplotlib.image.AxesImage at 0x16ac6e47cc8>"
      ]
     },
     "execution_count": 327,
     "metadata": {},
     "output_type": "execute_result"
    },
    {
     "data": {
      "image/png": "[encoded data removed]",
      "text/plain": [
       "<Figure size 432x288 with 1 Axes>"
      ]
     },
     "metadata": {
      "needs_background": "light"
     },
     "output_type": "display_data"
    }
   ],
   "source": [
    "qmaze = TreasureMaze(maze)\n",
    "canvas, reward, game_over = qmaze.act(DOWN)\n",
    "print(\"reward=\", reward)\n",
    "show(qmaze)"
   ]
  },
  {
   "cell_type": "markdown",
   "metadata": {},
   "source": [
    "This function simulates a full game based on the provided trained model. The other parameters include the TreasureMaze object and the starting position of the pirate."
   ]
  },
  {
   "cell_type": "code",
   "execution_count": 328,
   "metadata": {},
   "outputs": [],
   "source": [
    "def play_game(model, qmaze, pirate_cell):\n",
    "    qmaze.reset(pirate_cell)\n",
    "    envstate = qmaze.observe()\n",
    "    while True:\n",
    "        prev_envstate = envstate\n",
    "        # get next action\n",
    "        q = model.predict(prev_envstate)\n",
    "        action = np.argmax(q[0])\n",
    "\n",
    "        # apply action, get rewards and new state\n",
    "        envstate, reward, game_status = qmaze.act(action)\n",
    "        if game_status == 'win':\n",
    "            return True\n",
    "        elif game_status == 'lose':\n",
    "            return False"
   ]
  },
  {
   "cell_type": "markdown",
   "metadata": {},
   "source": [
    "This function helps you to determine whether the pirate can win any game at all. If your maze is not well designed, the pirate may not win any game at all. In this case, your training would not yield any result. The provided maze in this notebook ensures that there is a path to win and you can run this method to check."
   ]
  },
  {
   "cell_type": "code",
   "execution_count": 329,
   "metadata": {},
   "outputs": [],
   "source": [
    "def completion_check(model, qmaze):\n",
    "    for cell in qmaze.free_cells:\n",
    "        if not qmaze.valid_actions(cell):\n",
    "            return False\n",
    "        if not play_game(model, qmaze, cell):\n",
    "            return False\n",
    "    return True"
   ]
  },
  {
   "cell_type": "markdown",
   "metadata": {},
   "source": [
    "The code you have been given in this block will build the neural network model. Review the code and note the number of layers, as well as the activation, optimizer, and loss functions that are used to train the model."
   ]
  },
  {
   "cell_type": "code",
   "execution_count": 330,
   "metadata": {},
   "outputs": [],
   "source": [
    "def build_model(maze):\n",
    "    model = Sequential()\n",
    "    model.add(Dense(maze.size, input_shape=(maze.size,)))\n",
    "    model.add(PReLU())\n",
    "    model.add(Dense(maze.size))\n",
    "    model.add(PReLU())\n",
    "    model.add(Dense(num_actions))\n",
    "    model.compile(optimizer='adam', loss='mse')\n",
    "    return model"
   ]
  },
  {
   "cell_type": "markdown",
   "metadata": {},
   "source": [
    "# #TODO: Complete the Q-Training Algorithm Code Block\n",
    "\n",
    "This is your deep Q-learning implementation. The goal of your deep Q-learning implementation is to find the best possible navigation sequence that results in reaching the treasure cell while maximizing the reward. In your implementation, you need to determine the optimal number of epochs to achieve a 100% win rate.\n",
    "\n",
    "You will need to complete the section starting with #pseudocode. The pseudocode has been included for you."
   ]
  },
  {
   "cell_type": "code",
   "execution_count": 331,
   "metadata": {},
   "outputs": [],
   "source": [
    "def qtrain(model, maze, **opt):\n",
    "    global epsilon\n",
    "    n_epoch = opt.get('n_epoch', 15000)\n",
    "    max_memory = opt.get('max_memory', 1000)\n",
    "    data_size = opt.get('data_size', 50)\n",
    "    weights_file = opt.get('weights_file', \"\")\n",
    "    name = opt.get('name', 'model')\n",
    "    start_time = datetime.datetime.now()\n",
    "\n",
    "    # If you want to continue training from a previous model,\n",
    "    # just supply the h5 file name to weights_file option\n",
    "    if weights_file:\n",
    "        print(\"loading weights from file: %s\" % (weights_file,))\n",
    "        model.load_weights(weights_file)\n",
    "\n",
    "    # Construct environment/game from numpy array: maze (see above)\n",
    "    qmaze = TreasureMaze(maze)\n",
    "\n",
    "    # Initialize experience replay object\n",
    "    experience = GameExperience(model, max_memory=max_memory)\n",
    "\n",
    "    win_history = []   # history of win/lose game\n",
    "    n_free_cells = len(qmaze.free_cells)\n",
    "    hsize = qmaze.maze.size//2   # history window size\n",
    "    win_rate = 0.0\n",
    "    imctr = 1\n",
    "\n",
    "    for epoch in range(n_epoch):\n",
    "        loss = 0.0\n",
    "        pirate_cell = random.choice(qmaze.free_cells)\n",
    "        qmaze.reset(pirate_cell)\n",
    "        game_over = False\n",
    "\n",
    "        # get initial envstate (1d flattened canvas)\n",
    "        envstate = qmaze.observe()\n",
    "\n",
    "        n_episodes = 0\n",
    "        while not game_over:\n",
    "            valid_actions = qmaze.valid_actions()\n",
    "            if not valid_actions: break\n",
    "            prev_envstate = envstate\n",
    "            # Get next action\n",
    "            if np.random.rand() < epsilon:\n",
    "                action = random.choice(valid_actions)\n",
    "            else:\n",
    "                action = np.argmax(experience.predict(prev_envstate))\n",
    "\n",
    "            # Apply action, get reward and new envstate\n",
    "            envstate, reward, game_status = qmaze.act(action)\n",
    "            if game_status == 'win':\n",
    "                win_history.append(1)\n",
    "                game_over = True\n",
    "            elif game_status == 'lose':\n",
    "                win_history.append(0)\n",
    "                game_over = True\n",
    "            else:\n",
    "                game_over = False\n",
    "\n",
    "            # Store episode (experience)\n",
    "            episode = [prev_envstate, action, reward, envstate, game_over]\n",
    "            experience.remember(episode)\n",
    "            n_episodes += 1\n",
    "\n",
    "            # Train neural network model\n",
    "            inputs, targets = experience.get_data(data_size=data_size)\n",
    "            h = model.fit(\n",
    "                inputs,\n",
    "                targets,\n",
    "                epochs=8,\n",
    "                batch_size=16,\n",
    "                verbose=0,\n",
    "            )\n",
    "            loss = model.evaluate(inputs, targets, verbose=0)\n",
    "\n",
    "        if len(win_history) > hsize:\n",
    "            win_rate = sum(win_history[-hsize:]) / hsize\n",
    "    \n",
    "        dt = datetime.datetime.now() - start_time\n",
    "        t = format_time(dt.total_seconds())\n",
    "        template = \"Epoch: {:03d}/{:d} | Loss: {:.4f} | Episodes: {:d} | Win count: {:d} | Win rate: {:.3f} | time: {}\"\n",
    "        print(template.format(epoch, n_epoch-1, loss, n_episodes, sum(win_history), win_rate, t))\n",
    "        # we simply check if training has exhausted all free cells and if in all\n",
    "        # cases the agent won\n",
    "        if win_rate > 0.9 : epsilon = 0.05\n",
    "        if sum(win_history[-hsize:]) == hsize and completion_check(model, qmaze):\n",
    "            print(\"Reached 100%% win rate at epoch: %d\" % (epoch,))\n",
    "            break\n",
    "\n",
    "    # Save trained model weights and architecture, this will be used by the visualization code\n",
    "    h5file = name + \".h5\"\n",
    "    json_file = name + \".json\"\n",
    "    model.save_weights(h5file, overwrite=True)\n",
    "    with open(json_file, \"w\") as outfile:\n",
    "        json.dump(model.to_json(), outfile)\n",
    "    end_time = datetime.datetime.now()\n",
    "    dt = datetime.datetime.now() - start_time\n",
    "    seconds = dt.total_seconds()\n",
    "    t = format_time(seconds)\n",
    "    print('files: %s, %s' % (h5file, json_file))\n",
    "    print(\"n_epoch: %d, max_mem: %d, data: %d, time: %s\" % (epoch, max_memory, data_size, t))\n",
    "    return seconds\n",
    "\n",
    "# This is a small utility for printing readable time strings:\n",
    "def format_time(seconds):\n",
    "    if seconds < 400:\n",
    "        s = float(seconds)\n",
    "        return \"%.1f seconds\" % (s,)\n",
    "    elif seconds < 4000:\n",
    "        m = seconds / 60.0\n",
    "        return \"%.2f minutes\" % (m,)\n",
    "    else:\n",
    "        h = seconds / 3600.0\n",
    "        return \"%.2f hours\" % (h,)"
   ]
  },
  {
   "cell_type": "markdown",
   "metadata": {},
   "source": [
    "## Test Your Model\n",
    "\n",
    "Now we will start testing the deep Q-learning implementation. To begin, select **Cell**, then **Run All** from the menu bar. This will run your notebook. As it runs, you should see output begin to appear beneath the next few cells. The code below creates an instance of TreasureMaze."
   ]
  },
  {
   "cell_type": "code",
   "execution_count": 332,
   "metadata": {},
   "outputs": [
    {
     "data": {
      "text/plain": [
       "<matplotlib.image.AxesImage at 0x16ac6eb0488>"
      ]
     },
     "execution_count": 332,
     "metadata": {},
     "output_type": "execute_result"
    },
    {
     "data": {
      "image/png": "[encoded data removed]",
      "text/plain": [
       "<Figure size 432x288 with 1 Axes>"
      ]
     },
     "metadata": {
      "needs_background": "light"
     },
     "output_type": "display_data"
    }
   ],
   "source": [
    "qmaze = TreasureMaze(maze)\n",
    "show(qmaze)"
   ]
  },
  {
   "cell_type": "markdown",
   "metadata": {},
   "source": [
    "In the next code block, you will build your model and train it using deep Q-learning. Note: This step takes several minutes to fully run."
   ]
  },
  {
   "cell_type": "code",
   "execution_count": 333,
   "metadata": {},
   "outputs": [
    {
     "name": "stdout",
     "output_type": "stream",
     "text": [
      "Epoch: 000/14999 | Loss: 0.0197 | Episodes: 58 | Win count: 1 | Win rate: 0.000 | time: 6.4 seconds\n",
      "Epoch: 001/14999 | Loss: 0.0044 | Episodes: 55 | Win count: 2 | Win rate: 0.000 | time: 13.5 seconds\n",
      "Epoch: 002/14999 | Loss: 0.0057 | Episodes: 4 | Win count: 3 | Win rate: 0.000 | time: 14.0 seconds\n",
      "Epoch: 003/14999 | Loss: 0.0026 | Episodes: 141 | Win count: 3 | Win rate: 0.000 | time: 32.6 seconds\n",
      "Epoch: 004/14999 | Loss: 0.0034 | Episodes: 140 | Win count: 3 | Win rate: 0.000 | time: 49.9 seconds\n",
      "Epoch: 005/14999 | Loss: 0.0034 | Episodes: 142 | Win count: 3 | Win rate: 0.000 | time: 68.0 seconds\n",
      "Epoch: 006/14999 | Loss: 0.0039 | Episodes: 118 | Win count: 4 | Win rate: 0.000 | time: 83.8 seconds\n",
      "Epoch: 007/14999 | Loss: 0.0070 | Episodes: 27 | Win count: 5 | Win rate: 0.000 | time: 87.2 seconds\n",
      "Epoch: 008/14999 | Loss: 0.0224 | Episodes: 139 | Win count: 6 | Win rate: 0.000 | time: 105.4 seconds\n",
      "Epoch: 009/14999 | Loss: 0.0062 | Episodes: 46 | Win count: 7 | Win rate: 0.000 | time: 111.8 seconds\n",
      "Epoch: 010/14999 | Loss: 0.0098 | Episodes: 63 | Win count: 8 | Win rate: 0.000 | time: 119.8 seconds\n",
      "Epoch: 011/14999 | Loss: 0.0034 | Episodes: 11 | Win count: 9 | Win rate: 0.000 | time: 121.3 seconds\n",
      "Epoch: 012/14999 | Loss: 0.0031 | Episodes: 109 | Win count: 10 | Win rate: 0.000 | time: 136.6 seconds\n",
      "Epoch: 013/14999 | Loss: 0.0034 | Episodes: 52 | Win count: 11 | Win rate: 0.000 | time: 143.5 seconds\n",
      "Epoch: 014/14999 | Loss: 0.0016 | Episodes: 4 | Win count: 12 | Win rate: 0.000 | time: 144.0 seconds\n",
      "Epoch: 015/14999 | Loss: 0.0022 | Episodes: 34 | Win count: 13 | Win rate: 0.000 | time: 148.5 seconds\n",
      "Epoch: 016/14999 | Loss: 0.0030 | Episodes: 18 | Win count: 14 | Win rate: 0.000 | time: 150.7 seconds\n",
      "Epoch: 017/14999 | Loss: 0.0024 | Episodes: 41 | Win count: 15 | Win rate: 0.000 | time: 156.1 seconds\n",
      "Epoch: 018/14999 | Loss: 0.0010 | Episodes: 38 | Win count: 16 | Win rate: 0.000 | time: 160.8 seconds\n",
      "Epoch: 019/14999 | Loss: 0.0021 | Episodes: 17 | Win count: 17 | Win rate: 0.000 | time: 162.9 seconds\n",
      "Epoch: 020/14999 | Loss: 0.0020 | Episodes: 2 | Win count: 18 | Win rate: 0.000 | time: 163.2 seconds\n",
      "Epoch: 021/14999 | Loss: 0.0025 | Episodes: 46 | Win count: 19 | Win rate: 0.000 | time: 168.8 seconds\n",
      "Epoch: 022/14999 | Loss: 0.0026 | Episodes: 101 | Win count: 20 | Win rate: 0.000 | time: 182.0 seconds\n",
      "Epoch: 023/14999 | Loss: 0.0030 | Episodes: 25 | Win count: 21 | Win rate: 0.000 | time: 185.2 seconds\n",
      "Epoch: 024/14999 | Loss: 0.0012 | Episodes: 16 | Win count: 22 | Win rate: 0.000 | time: 187.3 seconds\n",
      "Epoch: 025/14999 | Loss: 0.0014 | Episodes: 35 | Win count: 23 | Win rate: 0.000 | time: 191.7 seconds\n",
      "Epoch: 026/14999 | Loss: 0.0012 | Episodes: 15 | Win count: 24 | Win rate: 0.000 | time: 193.5 seconds\n",
      "Epoch: 027/14999 | Loss: 0.0004 | Episodes: 7 | Win count: 25 | Win rate: 0.000 | time: 194.5 seconds\n",
      "Epoch: 028/14999 | Loss: 0.0008 | Episodes: 5 | Win count: 26 | Win rate: 0.000 | time: 195.1 seconds\n",
      "Epoch: 029/14999 | Loss: 0.0016 | Episodes: 26 | Win count: 27 | Win rate: 0.000 | time: 198.4 seconds\n",
      "Epoch: 030/14999 | Loss: 0.0018 | Episodes: 1 | Win count: 28 | Win rate: 0.000 | time: 198.5 seconds\n",
      "Epoch: 031/14999 | Loss: 0.0009 | Episodes: 13 | Win count: 29 | Win rate: 0.000 | time: 200.2 seconds\n",
      "Epoch: 032/14999 | Loss: 0.0013 | Episodes: 19 | Win count: 30 | Win rate: 0.906 | time: 202.6 seconds\n",
      "Epoch: 033/14999 | Loss: 0.0016 | Episodes: 23 | Win count: 31 | Win rate: 0.906 | time: 205.7 seconds\n",
      "Epoch: 034/14999 | Loss: 0.0012 | Episodes: 2 | Win count: 32 | Win rate: 0.906 | time: 206.0 seconds\n",
      "Epoch: 035/14999 | Loss: 0.0024 | Episodes: 26 | Win count: 33 | Win rate: 0.938 | time: 209.2 seconds\n",
      "Epoch: 036/14999 | Loss: 0.0010 | Episodes: 9 | Win count: 34 | Win rate: 0.969 | time: 210.4 seconds\n",
      "Epoch: 037/14999 | Loss: 0.0005 | Episodes: 1 | Win count: 35 | Win rate: 1.000 | time: 210.5 seconds\n",
      "Epoch: 038/14999 | Loss: 0.0006 | Episodes: 13 | Win count: 36 | Win rate: 1.000 | time: 212.5 seconds\n",
      "Epoch: 039/14999 | Loss: 0.0007 | Episodes: 9 | Win count: 37 | Win rate: 1.000 | time: 213.7 seconds\n",
      "Epoch: 040/14999 | Loss: 0.0006 | Episodes: 2 | Win count: 38 | Win rate: 1.000 | time: 214.2 seconds\n",
      "Epoch: 041/14999 | Loss: 0.0007 | Episodes: 20 | Win count: 39 | Win rate: 1.000 | time: 217.4 seconds\n",
      "Epoch: 042/14999 | Loss: 0.0005 | Episodes: 34 | Win count: 40 | Win rate: 1.000 | time: 222.0 seconds\n",
      "Epoch: 043/14999 | Loss: 0.0008 | Episodes: 16 | Win count: 41 | Win rate: 1.000 | time: 224.2 seconds\n",
      "Epoch: 044/14999 | Loss: 0.0008 | Episodes: 21 | Win count: 42 | Win rate: 1.000 | time: 227.2 seconds\n",
      "Epoch: 045/14999 | Loss: 0.0014 | Episodes: 45 | Win count: 43 | Win rate: 1.000 | time: 232.8 seconds\n",
      "Epoch: 046/14999 | Loss: 0.0004 | Episodes: 26 | Win count: 44 | Win rate: 1.000 | time: 236.2 seconds\n",
      "Epoch: 047/14999 | Loss: 0.0005 | Episodes: 32 | Win count: 45 | Win rate: 1.000 | time: 240.8 seconds\n",
      "Epoch: 048/14999 | Loss: 0.0018 | Episodes: 13 | Win count: 46 | Win rate: 1.000 | time: 242.8 seconds\n",
      "Epoch: 049/14999 | Loss: 0.0008 | Episodes: 9 | Win count: 47 | Win rate: 1.000 | time: 244.2 seconds\n",
      "Epoch: 050/14999 | Loss: 0.0006 | Episodes: 7 | Win count: 48 | Win rate: 1.000 | time: 245.2 seconds\n",
      "Epoch: 051/14999 | Loss: 0.0026 | Episodes: 51 | Win count: 49 | Win rate: 1.000 | time: 252.2 seconds\n",
      "Epoch: 052/14999 | Loss: 0.0013 | Episodes: 9 | Win count: 50 | Win rate: 1.000 | time: 253.6 seconds\n",
      "Epoch: 053/14999 | Loss: 0.0023 | Episodes: 40 | Win count: 51 | Win rate: 1.000 | time: 258.9 seconds\n",
      "Epoch: 054/14999 | Loss: 0.0016 | Episodes: 8 | Win count: 52 | Win rate: 1.000 | time: 260.2 seconds\n",
      "Epoch: 055/14999 | Loss: 0.0007 | Episodes: 9 | Win count: 53 | Win rate: 1.000 | time: 261.5 seconds\n",
      "Epoch: 056/14999 | Loss: 0.0050 | Episodes: 3 | Win count: 54 | Win rate: 1.000 | time: 262.0 seconds\n",
      "Epoch: 057/14999 | Loss: 0.0009 | Episodes: 18 | Win count: 55 | Win rate: 1.000 | time: 264.4 seconds\n",
      "Epoch: 058/14999 | Loss: 0.0014 | Episodes: 2 | Win count: 56 | Win rate: 1.000 | time: 264.7 seconds\n",
      "Epoch: 059/14999 | Loss: 0.0001 | Episodes: 24 | Win count: 57 | Win rate: 1.000 | time: 267.8 seconds\n",
      "Epoch: 060/14999 | Loss: 0.0006 | Episodes: 9 | Win count: 58 | Win rate: 1.000 | time: 269.1 seconds\n",
      "Epoch: 061/14999 | Loss: 0.0021 | Episodes: 2 | Win count: 59 | Win rate: 1.000 | time: 269.6 seconds\n",
      "Epoch: 062/14999 | Loss: 0.0007 | Episodes: 2 | Win count: 60 | Win rate: 1.000 | time: 269.9 seconds\n",
      "Epoch: 063/14999 | Loss: 0.0011 | Episodes: 29 | Win count: 61 | Win rate: 1.000 | time: 273.7 seconds\n",
      "Epoch: 064/14999 | Loss: 0.0005 | Episodes: 13 | Win count: 62 | Win rate: 1.000 | time: 275.6 seconds\n",
      "Epoch: 065/14999 | Loss: 0.0015 | Episodes: 29 | Win count: 63 | Win rate: 1.000 | time: 279.4 seconds\n",
      "Epoch: 066/14999 | Loss: 0.0010 | Episodes: 8 | Win count: 64 | Win rate: 1.000 | time: 280.5 seconds\n",
      "Epoch: 067/14999 | Loss: 0.0007 | Episodes: 23 | Win count: 65 | Win rate: 1.000 | time: 283.6 seconds\n",
      "Epoch: 068/14999 | Loss: 0.0012 | Episodes: 18 | Win count: 66 | Win rate: 1.000 | time: 286.3 seconds\n",
      "Epoch: 069/14999 | Loss: 0.0013 | Episodes: 43 | Win count: 67 | Win rate: 1.000 | time: 292.2 seconds\n",
      "Epoch: 070/14999 | Loss: 0.0005 | Episodes: 25 | Win count: 68 | Win rate: 1.000 | time: 295.7 seconds\n",
      "Epoch: 071/14999 | Loss: 0.0032 | Episodes: 5 | Win count: 69 | Win rate: 1.000 | time: 296.8 seconds\n",
      "Epoch: 072/14999 | Loss: 0.0005 | Episodes: 26 | Win count: 70 | Win rate: 1.000 | time: 300.4 seconds\n",
      "Epoch: 073/14999 | Loss: 0.0087 | Episodes: 16 | Win count: 71 | Win rate: 1.000 | time: 303.0 seconds\n",
      "Epoch: 074/14999 | Loss: 0.0012 | Episodes: 30 | Win count: 72 | Win rate: 1.000 | time: 306.8 seconds\n",
      "Epoch: 075/14999 | Loss: 0.0010 | Episodes: 11 | Win count: 73 | Win rate: 1.000 | time: 308.6 seconds\n",
      "Epoch: 076/14999 | Loss: 0.0008 | Episodes: 39 | Win count: 74 | Win rate: 1.000 | time: 313.7 seconds\n",
      "Epoch: 077/14999 | Loss: 0.0005 | Episodes: 7 | Win count: 75 | Win rate: 1.000 | time: 315.3 seconds\n",
      "Epoch: 078/14999 | Loss: 0.0004 | Episodes: 24 | Win count: 76 | Win rate: 1.000 | time: 319.0 seconds\n",
      "Epoch: 079/14999 | Loss: 0.0004 | Episodes: 15 | Win count: 77 | Win rate: 1.000 | time: 321.3 seconds\n",
      "Epoch: 080/14999 | Loss: 0.0002 | Episodes: 22 | Win count: 78 | Win rate: 1.000 | time: 324.5 seconds\n",
      "Epoch: 081/14999 | Loss: 0.0004 | Episodes: 23 | Win count: 79 | Win rate: 1.000 | time: 328.1 seconds\n",
      "Epoch: 082/14999 | Loss: 0.0004 | Episodes: 16 | Win count: 80 | Win rate: 1.000 | time: 330.7 seconds\n",
      "Epoch: 083/14999 | Loss: 0.0003 | Episodes: 55 | Win count: 81 | Win rate: 1.000 | time: 338.2 seconds\n",
      "Epoch: 084/14999 | Loss: 0.0005 | Episodes: 14 | Win count: 82 | Win rate: 1.000 | time: 340.5 seconds\n",
      "Epoch: 085/14999 | Loss: 0.0003 | Episodes: 4 | Win count: 83 | Win rate: 1.000 | time: 341.6 seconds\n",
      "Epoch: 086/14999 | Loss: 0.0002 | Episodes: 6 | Win count: 84 | Win rate: 1.000 | time: 342.8 seconds\n",
      "Epoch: 087/14999 | Loss: 0.0007 | Episodes: 16 | Win count: 85 | Win rate: 1.000 | time: 345.2 seconds\n",
      "Epoch: 088/14999 | Loss: 0.0012 | Episodes: 25 | Win count: 86 | Win rate: 1.000 | time: 349.3 seconds\n",
      "Epoch: 089/14999 | Loss: 0.0004 | Episodes: 28 | Win count: 87 | Win rate: 1.000 | time: 353.5 seconds\n",
      "Epoch: 090/14999 | Loss: 0.0004 | Episodes: 25 | Win count: 88 | Win rate: 1.000 | time: 356.8 seconds\n",
      "Epoch: 091/14999 | Loss: 0.0003 | Episodes: 21 | Win count: 89 | Win rate: 1.000 | time: 360.0 seconds\n",
      "Epoch: 092/14999 | Loss: 0.0006 | Episodes: 9 | Win count: 90 | Win rate: 1.000 | time: 361.3 seconds\n",
      "Epoch: 093/14999 | Loss: 0.0003 | Episodes: 19 | Win count: 91 | Win rate: 1.000 | time: 363.9 seconds\n",
      "Epoch: 094/14999 | Loss: 0.0004 | Episodes: 22 | Win count: 92 | Win rate: 1.000 | time: 366.8 seconds\n",
      "Epoch: 095/14999 | Loss: 0.0003 | Episodes: 11 | Win count: 93 | Win rate: 1.000 | time: 368.2 seconds\n",
      "Epoch: 096/14999 | Loss: 0.0006 | Episodes: 31 | Win count: 94 | Win rate: 1.000 | time: 372.6 seconds\n",
      "Epoch: 097/14999 | Loss: 0.0003 | Episodes: 6 | Win count: 95 | Win rate: 1.000 | time: 373.5 seconds\n",
      "Epoch: 098/14999 | Loss: 0.0005 | Episodes: 9 | Win count: 96 | Win rate: 1.000 | time: 375.0 seconds\n",
      "Epoch: 099/14999 | Loss: 0.0003 | Episodes: 23 | Win count: 97 | Win rate: 1.000 | time: 377.8 seconds\n",
      "Epoch: 100/14999 | Loss: 0.0003 | Episodes: 20 | Win count: 98 | Win rate: 1.000 | time: 380.4 seconds\n",
      "Epoch: 101/14999 | Loss: 0.0017 | Episodes: 5 | Win count: 99 | Win rate: 1.000 | time: 381.4 seconds\n",
      "Epoch: 102/14999 | Loss: 0.0007 | Episodes: 8 | Win count: 100 | Win rate: 1.000 | time: 382.7 seconds\n",
      "Epoch: 103/14999 | Loss: 0.0005 | Episodes: 16 | Win count: 101 | Win rate: 1.000 | time: 385.0 seconds\n",
      "Epoch: 104/14999 | Loss: 0.0002 | Episodes: 29 | Win count: 102 | Win rate: 1.000 | time: 388.8 seconds\n",
      "Epoch: 105/14999 | Loss: 0.0005 | Episodes: 18 | Win count: 103 | Win rate: 1.000 | time: 391.4 seconds\n",
      "Epoch: 106/14999 | Loss: 0.0002 | Episodes: 31 | Win count: 104 | Win rate: 1.000 | time: 396.1 seconds\n",
      "Epoch: 107/14999 | Loss: 0.0010 | Episodes: 54 | Win count: 105 | Win rate: 1.000 | time: 6.72 minutes\n",
      "Epoch: 108/14999 | Loss: 0.0008 | Episodes: 10 | Win count: 106 | Win rate: 1.000 | time: 6.75 minutes\n",
      "Epoch: 109/14999 | Loss: 0.0006 | Episodes: 18 | Win count: 107 | Win rate: 1.000 | time: 6.79 minutes\n",
      "Epoch: 110/14999 | Loss: 0.0002 | Episodes: 25 | Win count: 108 | Win rate: 1.000 | time: 6.85 minutes\n",
      "Epoch: 111/14999 | Loss: 0.0012 | Episodes: 31 | Win count: 109 | Win rate: 1.000 | time: 6.92 minutes\n",
      "Epoch: 112/14999 | Loss: 0.0005 | Episodes: 25 | Win count: 110 | Win rate: 1.000 | time: 6.97 minutes\n",
      "Epoch: 113/14999 | Loss: 0.0032 | Episodes: 30 | Win count: 111 | Win rate: 1.000 | time: 7.04 minutes\n",
      "Epoch: 114/14999 | Loss: 0.0004 | Episodes: 38 | Win count: 112 | Win rate: 1.000 | time: 7.12 minutes\n",
      "Epoch: 115/14999 | Loss: 0.0004 | Episodes: 7 | Win count: 113 | Win rate: 1.000 | time: 7.14 minutes\n",
      "Epoch: 116/14999 | Loss: 0.0011 | Episodes: 19 | Win count: 114 | Win rate: 1.000 | time: 7.18 minutes\n",
      "Epoch: 117/14999 | Loss: 0.0006 | Episodes: 9 | Win count: 115 | Win rate: 1.000 | time: 7.20 minutes\n",
      "Epoch: 118/14999 | Loss: 0.0003 | Episodes: 10 | Win count: 116 | Win rate: 1.000 | time: 7.22 minutes\n",
      "Epoch: 119/14999 | Loss: 0.0003 | Episodes: 6 | Win count: 117 | Win rate: 1.000 | time: 7.23 minutes\n",
      "Epoch: 120/14999 | Loss: 0.0005 | Episodes: 31 | Win count: 118 | Win rate: 1.000 | time: 7.30 minutes\n",
      "Epoch: 121/14999 | Loss: 0.0001 | Episodes: 25 | Win count: 119 | Win rate: 1.000 | time: 7.35 minutes\n",
      "Epoch: 122/14999 | Loss: 0.0041 | Episodes: 7 | Win count: 120 | Win rate: 1.000 | time: 7.36 minutes\n",
      "Epoch: 123/14999 | Loss: 0.0009 | Episodes: 3 | Win count: 121 | Win rate: 1.000 | time: 7.37 minutes\n",
      "Epoch: 124/14999 | Loss: 0.0001 | Episodes: 6 | Win count: 122 | Win rate: 1.000 | time: 7.39 minutes\n",
      "Epoch: 125/14999 | Loss: 0.0003 | Episodes: 5 | Win count: 123 | Win rate: 1.000 | time: 7.40 minutes\n",
      "Epoch: 126/14999 | Loss: 0.0001 | Episodes: 19 | Win count: 124 | Win rate: 1.000 | time: 7.45 minutes\n",
      "Epoch: 127/14999 | Loss: 0.0003 | Episodes: 11 | Win count: 125 | Win rate: 1.000 | time: 7.47 minutes\n",
      "Epoch: 128/14999 | Loss: 0.0005 | Episodes: 25 | Win count: 126 | Win rate: 1.000 | time: 7.52 minutes\n",
      "Epoch: 129/14999 | Loss: 0.0004 | Episodes: 25 | Win count: 127 | Win rate: 1.000 | time: 7.58 minutes\n",
      "Epoch: 130/14999 | Loss: 0.0013 | Episodes: 32 | Win count: 128 | Win rate: 1.000 | time: 7.65 minutes\n",
      "Epoch: 131/14999 | Loss: 0.0002 | Episodes: 24 | Win count: 129 | Win rate: 1.000 | time: 7.71 minutes\n",
      "Epoch: 132/14999 | Loss: 0.0003 | Episodes: 20 | Win count: 130 | Win rate: 1.000 | time: 7.75 minutes\n",
      "Epoch: 133/14999 | Loss: 0.0004 | Episodes: 22 | Win count: 131 | Win rate: 1.000 | time: 7.80 minutes\n",
      "Epoch: 134/14999 | Loss: 0.0003 | Episodes: 21 | Win count: 132 | Win rate: 1.000 | time: 7.85 minutes\n",
      "Epoch: 135/14999 | Loss: 0.0003 | Episodes: 7 | Win count: 133 | Win rate: 1.000 | time: 7.86 minutes\n",
      "Epoch: 136/14999 | Loss: 0.0005 | Episodes: 21 | Win count: 134 | Win rate: 1.000 | time: 7.91 minutes\n",
      "Epoch: 137/14999 | Loss: 0.0001 | Episodes: 13 | Win count: 135 | Win rate: 1.000 | time: 7.94 minutes\n",
      "Epoch: 138/14999 | Loss: 0.0004 | Episodes: 26 | Win count: 136 | Win rate: 1.000 | time: 8.00 minutes\n",
      "Epoch: 139/14999 | Loss: 0.0002 | Episodes: 1 | Win count: 137 | Win rate: 1.000 | time: 8.01 minutes\n",
      "Epoch: 140/14999 | Loss: 0.0001 | Episodes: 21 | Win count: 138 | Win rate: 1.000 | time: 8.06 minutes\n",
      "Epoch: 141/14999 | Loss: 0.0006 | Episodes: 13 | Win count: 139 | Win rate: 1.000 | time: 8.09 minutes\n",
      "Epoch: 142/14999 | Loss: 0.0004 | Episodes: 17 | Win count: 140 | Win rate: 1.000 | time: 8.14 minutes\n",
      "Epoch: 143/14999 | Loss: 0.0004 | Episodes: 32 | Win count: 141 | Win rate: 1.000 | time: 8.21 minutes\n",
      "Epoch: 144/14999 | Loss: 0.0000 | Episodes: 27 | Win count: 142 | Win rate: 1.000 | time: 8.27 minutes\n",
      "Epoch: 145/14999 | Loss: 0.0005 | Episodes: 11 | Win count: 143 | Win rate: 1.000 | time: 8.30 minutes\n",
      "Epoch: 146/14999 | Loss: 0.0003 | Episodes: 25 | Win count: 144 | Win rate: 1.000 | time: 8.35 minutes\n",
      "Epoch: 147/14999 | Loss: 0.0003 | Episodes: 31 | Win count: 145 | Win rate: 1.000 | time: 8.42 minutes\n",
      "Epoch: 148/14999 | Loss: 0.0059 | Episodes: 13 | Win count: 146 | Win rate: 1.000 | time: 8.45 minutes\n",
      "Epoch: 149/14999 | Loss: 0.0008 | Episodes: 7 | Win count: 147 | Win rate: 1.000 | time: 8.47 minutes\n",
      "Epoch: 150/14999 | Loss: 0.0045 | Episodes: 40 | Win count: 148 | Win rate: 1.000 | time: 8.56 minutes\n",
      "Epoch: 151/14999 | Loss: 0.0005 | Episodes: 4 | Win count: 149 | Win rate: 1.000 | time: 8.57 minutes\n",
      "Epoch: 152/14999 | Loss: 0.0002 | Episodes: 9 | Win count: 150 | Win rate: 1.000 | time: 8.59 minutes\n",
      "Epoch: 153/14999 | Loss: 0.0009 | Episodes: 12 | Win count: 151 | Win rate: 1.000 | time: 8.62 minutes\n",
      "Reached 100% win rate at epoch: 153\n",
      "files: model.h5, model.json\n",
      "n_epoch: 153, max_mem: 512, data: 32, time: 8.63 minutes\n"
     ]
    },
    {
     "data": {
      "text/plain": [
       "517.539679"
      ]
     },
     "execution_count": 333,
     "metadata": {},
     "output_type": "execute_result"
    }
   ],
   "source": [
    "model = build_model(maze)\n",
    "qtrain(model, maze, epochs=1000, max_memory=8*maze.size, data_size=32)"
   ]
  },
  {
   "cell_type": "markdown",
   "metadata": {},
   "source": [
    "This cell will check to see if the model passes the completion check. Note: This could take several minutes."
   ]
  },
  {
   "cell_type": "code",
   "execution_count": 334,
   "metadata": {},
   "outputs": [
    {
     "data": {
      "text/plain": [
       "<matplotlib.image.AxesImage at 0x16acd64ad48>"
      ]
     },
     "execution_count": 334,
     "metadata": {},
     "output_type": "execute_result"
    },
    {
     "data": {
      "image/png": "[encoded data removed]",
      "text/plain": [
       "<Figure size 432x288 with 1 Axes>"
      ]
     },
     "metadata": {
      "needs_background": "light"
     },
     "output_type": "display_data"
    }
   ],
   "source": [
    "completion_check(model, qmaze)\n",
    "show(qmaze)"
   ]
  },
  {
   "cell_type": "markdown",
   "metadata": {},
   "source": [
    "This cell will test your model for one game. It will start the pirate at the top-left corner and run play_game. The agent should find a path from the starting position to the target (treasure). The treasure is located in the bottom-right corner."
   ]
  },
  {
   "cell_type": "code",
   "execution_count": 335,
   "metadata": {
    "scrolled": true
   },
   "outputs": [
    {
     "data": {
      "text/plain": [
       "<matplotlib.image.AxesImage at 0x16acd7bfe88>"
      ]
     },
     "execution_count": 335,
     "metadata": {},
     "output_type": "execute_result"
    },
    {
     "data": {
      "image/png": "[encoded data removed]",
      "text/plain": [
       "<Figure size 432x288 with 1 Axes>"
      ]
     },
     "metadata": {
      "needs_background": "light"
     },
     "output_type": "display_data"
    }
   ],
   "source": [
    "pirate_start = (0, 0)\n",
    "play_game(model, qmaze, pirate_start)\n",
    "show(qmaze)"
   ]
  },
  {
   "cell_type": "markdown",
   "metadata": {},
   "source": [
    "## Save and Submit Your Work\n",
    "After you have finished creating the code for your notebook, save your work. Make sure that your notebook contains your name in the filename (e.g. Doe_Jane_ProjectTwo.ipynb). This will help your instructor access and grade your work easily. Download a copy of your IPYNB file and submit it to Brightspace. Refer to the Jupyter Notebook in Apporto Tutorial if you need help with these tasks."
   ]
  }
 ],
 "metadata": {
  "kernelspec": {
   "display_name": "Python 3",
   "language": "python",
   "name": "python3"
  },
  "language_info": {
   "codemirror_mode": {
    "name": "ipython",
    "version": 3
   },
   "file_extension": ".py",
   "mimetype": "text/x-python",
   "name": "python",
   "nbconvert_exporter": "python",
   "pygments_lexer": "ipython3",
   "version": "3.7.4"
  }
 },
 "nbformat": 4,
 "nbformat_minor": 2
}
